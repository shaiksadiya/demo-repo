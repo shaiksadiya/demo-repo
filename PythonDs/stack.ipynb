{
 "cells": [
  {
   "cell_type": "markdown",
   "metadata": {},
   "source": [
    "# STACK !\n",
    "\n",
    "        Implementation of stack using list\n",
    "        \n",
    "        Implementation of stack using Modules"
   ]
  },
  {
   "cell_type": "markdown",
   "metadata": {},
   "source": [
    "### Description:\n",
    "Data structure is a way of storing and organising the data so that it can be accessed effectively.\n",
    "In python we can categorise data structures in 2 ways built in data structures and user defined data structures.\n",
    "Python offers 4 built in data structures list tuple set and dictionary.\n",
    "And we can implement stack queue linked list tree and graph which are called as user defined data structures .\n",
    "\n",
    "We can implement stack using list or modules in python. Here we will learn how to implement stack using list in detail."
   ]
  },
  {
   "cell_type": "markdown",
   "metadata": {},
   "source": [
    "## Implementation of stack using list"
   ]
  },
  {
   "cell_type": "code",
   "execution_count": 1,
   "metadata": {},
   "outputs": [],
   "source": [
    "#stack using List\n",
    "stack = []\n",
    "stack.append(10)\n",
    "stack.append(20)"
   ]
  },
  {
   "cell_type": "code",
   "execution_count": 2,
   "metadata": {},
   "outputs": [
    {
     "data": {
      "text/plain": [
       "20"
      ]
     },
     "execution_count": 2,
     "metadata": {},
     "output_type": "execute_result"
    }
   ],
   "source": [
    "stack.pop()"
   ]
  },
  {
   "cell_type": "code",
   "execution_count": 3,
   "metadata": {},
   "outputs": [
    {
     "data": {
      "text/plain": [
       "10"
      ]
     },
     "execution_count": 3,
     "metadata": {},
     "output_type": "execute_result"
    }
   ],
   "source": [
    "stack.pop()"
   ]
  },
  {
   "cell_type": "code",
   "execution_count": 4,
   "metadata": {},
   "outputs": [
    {
     "data": {
      "text/plain": [
       "True"
      ]
     },
     "execution_count": 4,
     "metadata": {},
     "output_type": "execute_result"
    }
   ],
   "source": [
    "# to check if stack is empty or not ? we use len and not as follows\n",
    "len(stack) == 0"
   ]
  },
  {
   "cell_type": "code",
   "execution_count": 5,
   "metadata": {},
   "outputs": [
    {
     "data": {
      "text/plain": [
       "True"
      ]
     },
     "execution_count": 5,
     "metadata": {},
     "output_type": "execute_result"
    }
   ],
   "source": [
    "not stack"
   ]
  },
  {
   "cell_type": "code",
   "execution_count": 6,
   "metadata": {},
   "outputs": [],
   "source": [
    "stack.append(4)\n",
    "stack.append(10)"
   ]
  },
  {
   "cell_type": "code",
   "execution_count": 7,
   "metadata": {},
   "outputs": [
    {
     "data": {
      "text/plain": [
       "10"
      ]
     },
     "execution_count": 7,
     "metadata": {},
     "output_type": "execute_result"
    }
   ],
   "source": [
    "# to get top/last element present in stack, we can use this following statement\n",
    "stack[-1]"
   ]
  },
  {
   "cell_type": "code",
   "execution_count": 59,
   "metadata": {},
   "outputs": [
    {
     "name": "stdout",
     "output_type": "stream",
     "text": [
      "select the operation 1:push 2:pop 3:quit \n",
      "1\n",
      "enter the element 10\n",
      "['10']\n",
      "\n",
      "select the operation 1:push 2:pop 3:quit \n",
      "1\n",
      "enter the element 20\n",
      "['10', '20']\n",
      "\n",
      "select the operation 1:push 2:pop 3:quit \n",
      "4\n",
      "enter the correct operation\n",
      "\n",
      "select the operation 1:push 2:pop 3:quit \n",
      "2\n",
      "removed element is 20\n",
      "['10']\n",
      "\n",
      "select the operation 1:push 2:pop 3:quit \n",
      "2\n",
      "removed element is 10\n",
      "[]\n",
      "\n",
      "select the operation 1:push 2:pop 3:quit \n",
      "2\n",
      "stack is empty\n",
      "select the operation 1:push 2:pop 3:quit \n",
      "3\n"
     ]
    }
   ],
   "source": [
    "stack = []\n",
    "def push():\n",
    "    element = input(\"enter the element \")\n",
    "    stack.append(element)\n",
    "    print(stack)\n",
    "    print()\n",
    "\n",
    "def pop():\n",
    "    if not stack: #checking stack is empty or not ?\n",
    "        print(\"stack is empty\")\n",
    "    else :\n",
    "        e = stack.pop()\n",
    "        print(\"removed element is\", e)\n",
    "        print(stack)\n",
    "        print()\n",
    "\n",
    "while True:\n",
    "    print(\"select the operation 1:push 2:pop 3:quit \")\n",
    "    choice = int(input())\n",
    "    if choice == 1 :\n",
    "        push()\n",
    "    elif choice == 2 :\n",
    "        pop()\n",
    "    elif choice == 3 :\n",
    "        break\n",
    "    else :\n",
    "        print(\"enter the correct operation\")\n",
    "        print()\n",
    "        "
   ]
  },
  {
   "cell_type": "code",
   "execution_count": 61,
   "metadata": {},
   "outputs": [
    {
     "name": "stdout",
     "output_type": "stream",
     "text": [
      "enter the size of stack2\n",
      "select the operation 1:push 2:pop 3:quit\n",
      "1\n",
      "enter the element20\n",
      "['20']\n",
      "select the operation 1:push 2:pop 3:quit\n",
      "1\n",
      "enter the element30\n",
      "['20', '30']\n",
      "select the operation 1:push 2:pop 3:quit\n",
      "1\n",
      "stack has reached its max size\n",
      "select the operation 1:push 2:pop 3:quit\n",
      "2\n",
      "removed element is 30\n",
      "['20']\n",
      "select the operation 1:push 2:pop 3:quit\n",
      "2\n",
      "removed element is 20\n",
      "[]\n",
      "select the operation 1:push 2:pop 3:quit\n",
      "2\n",
      "stack is empty\n",
      "select the operation 1:push 2:pop 3:quit\n",
      "3\n"
     ]
    }
   ],
   "source": [
    "# lets set the maximum size of the stack\n",
    "stack = []\n",
    "max_size = int(input(\"enter the size of stack\"))\n",
    "def push():\n",
    "    if len(stack) == max_size :\n",
    "        print(\"stack has reached its max size\")\n",
    "    else :\n",
    "        element = input(\"enter the element\")\n",
    "        stack.append(element)\n",
    "        print(stack)\n",
    "\n",
    "def pop():\n",
    "    if not stack: #checking stack is empty or not ?\n",
    "        print(\"stack is empty\")\n",
    "    else :\n",
    "        e = stack.pop()\n",
    "        print(\"removed element is\", e)\n",
    "        print(stack)\n",
    "\n",
    "while True:\n",
    "    print(\"select the operation 1:push 2:pop 3:quit\")\n",
    "    choice = int(input())\n",
    "    if choice == 1 :\n",
    "        push()\n",
    "    elif choice == 2 :\n",
    "        pop()\n",
    "    elif choice == 3 :\n",
    "        break\n",
    "    else :\n",
    "        print(\"enter the correct operation\")\n",
    "        "
   ]
  },
  {
   "cell_type": "markdown",
   "metadata": {},
   "source": [
    "## Implementation of stack using Modules\n",
    "    Implementation of stack by using \"deque\" class from \"collection\" module\n",
    "        for push --> append method of deque\n",
    "        for pop  --> pop method of deque\n",
    "        \n",
    "    Implementation of stack by using \"Lifoqueue\" class from \"Queue\" module\n",
    "        for push --> put method of lifoqueue\n",
    "        for pop  --> get method of lifoqueue"
   ]
  },
  {
   "cell_type": "code",
   "execution_count": 10,
   "metadata": {},
   "outputs": [
    {
     "name": "stdout",
     "output_type": "stream",
     "text": [
      "deque([])\n"
     ]
    }
   ],
   "source": [
    "# In colloction module, we use its \"deque\" class \n",
    "import collections \n",
    "stack = collections.deque()\n",
    "print(stack)"
   ]
  },
  {
   "cell_type": "code",
   "execution_count": 11,
   "metadata": {},
   "outputs": [
    {
     "name": "stdout",
     "output_type": "stream",
     "text": [
      "deque([10, 20, 30])\n"
     ]
    }
   ],
   "source": [
    "stack.append(10)\n",
    "stack.append(20)\n",
    "stack.append(30)\n",
    "print(stack)"
   ]
  },
  {
   "cell_type": "code",
   "execution_count": 12,
   "metadata": {},
   "outputs": [
    {
     "data": {
      "text/plain": [
       "30"
      ]
     },
     "execution_count": 12,
     "metadata": {},
     "output_type": "execute_result"
    }
   ],
   "source": [
    "stack.pop()"
   ]
  },
  {
   "cell_type": "code",
   "execution_count": 13,
   "metadata": {},
   "outputs": [
    {
     "data": {
      "text/plain": [
       "20"
      ]
     },
     "execution_count": 13,
     "metadata": {},
     "output_type": "execute_result"
    }
   ],
   "source": [
    "stack.pop()\n"
   ]
  },
  {
   "cell_type": "code",
   "execution_count": 14,
   "metadata": {},
   "outputs": [
    {
     "data": {
      "text/plain": [
       "10"
      ]
     },
     "execution_count": 14,
     "metadata": {},
     "output_type": "execute_result"
    }
   ],
   "source": [
    "stack.pop()\n"
   ]
  },
  {
   "cell_type": "code",
   "execution_count": 15,
   "metadata": {},
   "outputs": [
    {
     "ename": "IndexError",
     "evalue": "pop from an empty deque",
     "output_type": "error",
     "traceback": [
      "\u001b[1;31m---------------------------------------------------------------------------\u001b[0m",
      "\u001b[1;31mIndexError\u001b[0m                                Traceback (most recent call last)",
      "\u001b[1;32m<ipython-input-15-415460d3b717>\u001b[0m in \u001b[0;36m<module>\u001b[1;34m\u001b[0m\n\u001b[1;32m----> 1\u001b[1;33m \u001b[0mstack\u001b[0m\u001b[1;33m.\u001b[0m\u001b[0mpop\u001b[0m\u001b[1;33m(\u001b[0m\u001b[1;33m)\u001b[0m\u001b[1;33m\u001b[0m\u001b[1;33m\u001b[0m\u001b[0m\n\u001b[0m",
      "\u001b[1;31mIndexError\u001b[0m: pop from an empty deque"
     ]
    }
   ],
   "source": [
    "stack.pop()"
   ]
  },
  {
   "cell_type": "code",
   "execution_count": 27,
   "metadata": {},
   "outputs": [],
   "source": [
    "import queue"
   ]
  },
  {
   "cell_type": "code",
   "execution_count": 28,
   "metadata": {},
   "outputs": [],
   "source": [
    "stack = queue.LifoQueue(3) # here 3 is limit of stack\n"
   ]
  },
  {
   "cell_type": "code",
   "execution_count": 29,
   "metadata": {},
   "outputs": [
    {
     "name": "stdout",
     "output_type": "stream",
     "text": [
      "<queue.LifoQueue object at 0x000001A5083B3970>\n"
     ]
    }
   ],
   "source": [
    "stack.put(10)\n",
    "stack.put(20)\n",
    "stack.put(30)\n",
    "print(stack)"
   ]
  },
  {
   "cell_type": "code",
   "execution_count": 30,
   "metadata": {},
   "outputs": [
    {
     "ename": "Full",
     "evalue": "",
     "output_type": "error",
     "traceback": [
      "\u001b[1;31m---------------------------------------------------------------------------\u001b[0m",
      "\u001b[1;31mFull\u001b[0m                                      Traceback (most recent call last)",
      "\u001b[1;32m<ipython-input-30-afdf70de620e>\u001b[0m in \u001b[0;36m<module>\u001b[1;34m\u001b[0m\n\u001b[1;32m----> 1\u001b[1;33m \u001b[0mstack\u001b[0m\u001b[1;33m.\u001b[0m\u001b[0mput\u001b[0m\u001b[1;33m(\u001b[0m\u001b[1;36m40\u001b[0m\u001b[1;33m,\u001b[0m \u001b[0mtimeout\u001b[0m \u001b[1;33m=\u001b[0m \u001b[1;36m1\u001b[0m\u001b[1;33m)\u001b[0m\u001b[1;33m\u001b[0m\u001b[1;33m\u001b[0m\u001b[0m\n\u001b[0m",
      "\u001b[1;32mC:\\ProgramData\\Anaconda3\\lib\\queue.py\u001b[0m in \u001b[0;36mput\u001b[1;34m(self, item, block, timeout)\u001b[0m\n\u001b[0;32m    145\u001b[0m                         \u001b[0mremaining\u001b[0m \u001b[1;33m=\u001b[0m \u001b[0mendtime\u001b[0m \u001b[1;33m-\u001b[0m \u001b[0mtime\u001b[0m\u001b[1;33m(\u001b[0m\u001b[1;33m)\u001b[0m\u001b[1;33m\u001b[0m\u001b[1;33m\u001b[0m\u001b[0m\n\u001b[0;32m    146\u001b[0m                         \u001b[1;32mif\u001b[0m \u001b[0mremaining\u001b[0m \u001b[1;33m<=\u001b[0m \u001b[1;36m0.0\u001b[0m\u001b[1;33m:\u001b[0m\u001b[1;33m\u001b[0m\u001b[1;33m\u001b[0m\u001b[0m\n\u001b[1;32m--> 147\u001b[1;33m                             \u001b[1;32mraise\u001b[0m \u001b[0mFull\u001b[0m\u001b[1;33m\u001b[0m\u001b[1;33m\u001b[0m\u001b[0m\n\u001b[0m\u001b[0;32m    148\u001b[0m                         \u001b[0mself\u001b[0m\u001b[1;33m.\u001b[0m\u001b[0mnot_full\u001b[0m\u001b[1;33m.\u001b[0m\u001b[0mwait\u001b[0m\u001b[1;33m(\u001b[0m\u001b[0mremaining\u001b[0m\u001b[1;33m)\u001b[0m\u001b[1;33m\u001b[0m\u001b[1;33m\u001b[0m\u001b[0m\n\u001b[0;32m    149\u001b[0m             \u001b[0mself\u001b[0m\u001b[1;33m.\u001b[0m\u001b[0m_put\u001b[0m\u001b[1;33m(\u001b[0m\u001b[0mitem\u001b[0m\u001b[1;33m)\u001b[0m\u001b[1;33m\u001b[0m\u001b[1;33m\u001b[0m\u001b[0m\n",
      "\u001b[1;31mFull\u001b[0m: "
     ]
    }
   ],
   "source": [
    "stack.put(40, timeout = 1) # without timeout parameter, \n",
    "\n",
    "#this line of code keeps on running, as a result blocks the program.\n",
    "# hence we use timeout paramester"
   ]
  },
  {
   "cell_type": "code",
   "execution_count": 31,
   "metadata": {},
   "outputs": [
    {
     "data": {
      "text/plain": [
       "30"
      ]
     },
     "execution_count": 31,
     "metadata": {},
     "output_type": "execute_result"
    }
   ],
   "source": [
    "stack.get()"
   ]
  },
  {
   "cell_type": "code",
   "execution_count": 32,
   "metadata": {},
   "outputs": [
    {
     "data": {
      "text/plain": [
       "20"
      ]
     },
     "execution_count": 32,
     "metadata": {},
     "output_type": "execute_result"
    }
   ],
   "source": [
    "stack.get()"
   ]
  },
  {
   "cell_type": "code",
   "execution_count": 33,
   "metadata": {},
   "outputs": [
    {
     "data": {
      "text/plain": [
       "10"
      ]
     },
     "execution_count": 33,
     "metadata": {},
     "output_type": "execute_result"
    }
   ],
   "source": [
    "stack.get()"
   ]
  },
  {
   "cell_type": "code",
   "execution_count": 34,
   "metadata": {},
   "outputs": [
    {
     "ename": "Empty",
     "evalue": "",
     "output_type": "error",
     "traceback": [
      "\u001b[1;31m---------------------------------------------------------------------------\u001b[0m",
      "\u001b[1;31mEmpty\u001b[0m                                     Traceback (most recent call last)",
      "\u001b[1;32m<ipython-input-34-9e189e686136>\u001b[0m in \u001b[0;36m<module>\u001b[1;34m\u001b[0m\n\u001b[1;32m----> 1\u001b[1;33m \u001b[0mstack\u001b[0m\u001b[1;33m.\u001b[0m\u001b[0mget\u001b[0m\u001b[1;33m(\u001b[0m\u001b[0mtimeout\u001b[0m \u001b[1;33m=\u001b[0m\u001b[1;36m1\u001b[0m\u001b[1;33m)\u001b[0m\u001b[1;33m\u001b[0m\u001b[1;33m\u001b[0m\u001b[0m\n\u001b[0m",
      "\u001b[1;32mC:\\ProgramData\\Anaconda3\\lib\\queue.py\u001b[0m in \u001b[0;36mget\u001b[1;34m(self, block, timeout)\u001b[0m\n\u001b[0;32m    176\u001b[0m                     \u001b[0mremaining\u001b[0m \u001b[1;33m=\u001b[0m \u001b[0mendtime\u001b[0m \u001b[1;33m-\u001b[0m \u001b[0mtime\u001b[0m\u001b[1;33m(\u001b[0m\u001b[1;33m)\u001b[0m\u001b[1;33m\u001b[0m\u001b[1;33m\u001b[0m\u001b[0m\n\u001b[0;32m    177\u001b[0m                     \u001b[1;32mif\u001b[0m \u001b[0mremaining\u001b[0m \u001b[1;33m<=\u001b[0m \u001b[1;36m0.0\u001b[0m\u001b[1;33m:\u001b[0m\u001b[1;33m\u001b[0m\u001b[1;33m\u001b[0m\u001b[0m\n\u001b[1;32m--> 178\u001b[1;33m                         \u001b[1;32mraise\u001b[0m \u001b[0mEmpty\u001b[0m\u001b[1;33m\u001b[0m\u001b[1;33m\u001b[0m\u001b[0m\n\u001b[0m\u001b[0;32m    179\u001b[0m                     \u001b[0mself\u001b[0m\u001b[1;33m.\u001b[0m\u001b[0mnot_empty\u001b[0m\u001b[1;33m.\u001b[0m\u001b[0mwait\u001b[0m\u001b[1;33m(\u001b[0m\u001b[0mremaining\u001b[0m\u001b[1;33m)\u001b[0m\u001b[1;33m\u001b[0m\u001b[1;33m\u001b[0m\u001b[0m\n\u001b[0;32m    180\u001b[0m             \u001b[0mitem\u001b[0m \u001b[1;33m=\u001b[0m \u001b[0mself\u001b[0m\u001b[1;33m.\u001b[0m\u001b[0m_get\u001b[0m\u001b[1;33m(\u001b[0m\u001b[1;33m)\u001b[0m\u001b[1;33m\u001b[0m\u001b[1;33m\u001b[0m\u001b[0m\n",
      "\u001b[1;31mEmpty\u001b[0m: "
     ]
    }
   ],
   "source": [
    "stack.get(timeout =1)"
   ]
  },
  {
   "cell_type": "markdown",
   "metadata": {},
   "source": [
    "### implementation of stack using deque class from collections module"
   ]
  },
  {
   "cell_type": "code",
   "execution_count": 45,
   "metadata": {},
   "outputs": [
    {
     "name": "stdout",
     "output_type": "stream",
     "text": [
      "enter the operation 1:push 2:pop 3:quit1\n",
      "enter the element 10\n",
      "deque(['10'])\n",
      "\n",
      "enter the operation 1:push 2:pop 3:quit2\n",
      "deque([])\n",
      "enter the operation 1:push 2:pop 3:quit3\n"
     ]
    }
   ],
   "source": [
    "import collections\n",
    "stack = collections.deque()\n",
    "\n",
    "def pushh():\n",
    "    element = input(\"enter the element \")\n",
    "    stack.append(element)\n",
    "    print(stack)\n",
    "    print()\n",
    "\n",
    "def pop():\n",
    "    if len(stack) == 0:\n",
    "        print(\"stack is empty !!!\")\n",
    "    else :\n",
    "        e = stack.pop()\n",
    "        \n",
    "        print(stack)\n",
    "    \n",
    "while True:\n",
    "    choice = int(input(\"enter the operation 1:push 2:pop 3:quit\"))\n",
    "    if choice == 1:\n",
    "        pushh()\n",
    "    elif choice == 2:\n",
    "        pop()\n",
    "    elif choice == 3:\n",
    "        break\n",
    "    else :\n",
    "        print(\"invalid operation\")"
   ]
  }
 ],
 "metadata": {
  "kernelspec": {
   "display_name": "Python 3",
   "language": "python",
   "name": "python3"
  },
  "language_info": {
   "codemirror_mode": {
    "name": "ipython",
    "version": 3
   },
   "file_extension": ".py",
   "mimetype": "text/x-python",
   "name": "python",
   "nbconvert_exporter": "python",
   "pygments_lexer": "ipython3",
   "version": "3.8.3"
  }
 },
 "nbformat": 4,
 "nbformat_minor": 4
}
