{
 "cells": [
  {
   "cell_type": "markdown",
   "metadata": {},
   "source": [
    "# STACK\n",
    "\n",
    "        Implementation of stack using list\n",
    "        \n",
    "        Implementation of stack using Modules"
   ]
  },
  {
   "cell_type": "markdown",
   "metadata": {},
   "source": [
    "## Implementation of stack using list"
   ]
  },
  {
   "cell_type": "code",
   "execution_count": 1,
   "metadata": {},
   "outputs": [],
   "source": [
    "#stack using List\n",
    "stack = []\n",
    "stack.append(10)\n",
    "stack.append(20)"
   ]
  },
  {
   "cell_type": "code",
   "execution_count": 2,
   "metadata": {},
   "outputs": [
    {
     "data": {
      "text/plain": [
       "20"
      ]
     },
     "execution_count": 2,
     "metadata": {},
     "output_type": "execute_result"
    }
   ],
   "source": [
    "stack.pop()"
   ]
  },
  {
   "cell_type": "code",
   "execution_count": 3,
   "metadata": {},
   "outputs": [
    {
     "data": {
      "text/plain": [
       "10"
      ]
     },
     "execution_count": 3,
     "metadata": {},
     "output_type": "execute_result"
    }
   ],
   "source": [
    "stack.pop()"
   ]
  },
  {
   "cell_type": "code",
   "execution_count": 4,
   "metadata": {},
   "outputs": [
    {
     "data": {
      "text/plain": [
       "True"
      ]
     },
     "execution_count": 4,
     "metadata": {},
     "output_type": "execute_result"
    }
   ],
   "source": [
    "# to check if stack is empty or not ? we use len and not as follows\n",
    "len(stack) == 0"
   ]
  },
  {
   "cell_type": "code",
   "execution_count": 5,
   "metadata": {},
   "outputs": [
    {
     "data": {
      "text/plain": [
       "True"
      ]
     },
     "execution_count": 5,
     "metadata": {},
     "output_type": "execute_result"
    }
   ],
   "source": [
    "not stack"
   ]
  },
  {
   "cell_type": "code",
   "execution_count": 7,
   "metadata": {},
   "outputs": [],
   "source": [
    "stack.append(4)\n",
    "stack.append(10)"
   ]
  },
  {
   "cell_type": "code",
   "execution_count": 8,
   "metadata": {},
   "outputs": [
    {
     "data": {
      "text/plain": [
       "10"
      ]
     },
     "execution_count": 8,
     "metadata": {},
     "output_type": "execute_result"
    }
   ],
   "source": [
    "#to get the top/last element present in stack, we can use this following statement\n",
    "stack[-1]"
   ]
  },
  {
   "cell_type": "code",
   "execution_count": 9,
   "metadata": {},
   "outputs": [
    {
     "name": "stdout",
     "output_type": "stream",
     "text": [
      "select the operation 1:push 2:pop 3:quit\n",
      "1\n",
      "enter the element30\n",
      "['30']\n",
      "select the operation 1:push 2:pop 3:quit\n",
      "1\n",
      "enter the element40\n",
      "['30', '40']\n",
      "select the operation 1:push 2:pop 3:quit\n",
      "2\n",
      "removed element is 40\n",
      "['30']\n",
      "select the operation 1:push 2:pop 3:quit\n",
      "2\n",
      "removed element is 30\n",
      "[]\n",
      "select the operation 1:push 2:pop 3:quit\n",
      "4\n",
      "enter the correct operation\n",
      "select the operation 1:push 2:pop 3:quit\n",
      "2\n",
      "stack is empty\n",
      "select the operation 1:push 2:pop 3:quit\n",
      "3\n"
     ]
    }
   ],
   "source": [
    "stack = []\n",
    "def push():\n",
    "    element = input(\"enter the element\")\n",
    "    stack.append(element)\n",
    "    print(stack)\n",
    "\n",
    "def pop():\n",
    "    if not stack: #checking stack is empty or not ?\n",
    "        print(\"stack is empty\")\n",
    "    else :\n",
    "        e = stack.pop()\n",
    "        print(\"removed element is\", e)\n",
    "        print(stack)\n",
    "\n",
    "while True:\n",
    "    print(\"select the operation 1:push 2:pop 3:quit\")\n",
    "    choice = int(input())\n",
    "    if choice == 1 :\n",
    "        push()\n",
    "    elif choice == 2 :\n",
    "        pop()\n",
    "    elif choice == 3 :\n",
    "        break\n",
    "    else :\n",
    "        print(\"enter the correct operation\")\n",
    "        "
   ]
  },
  {
   "cell_type": "code",
   "execution_count": null,
   "metadata": {},
   "outputs": [
    {
     "name": "stdout",
     "output_type": "stream",
     "text": [
      "enter the size of stack3\n",
      "select the operation 1:push 2:pop 3:quit\n",
      "1\n",
      "enter the element10\n",
      "['10']\n",
      "select the operation 1:push 2:pop 3:quit\n",
      "1\n",
      "enter the element20\n",
      "['10', '20']\n",
      "select the operation 1:push 2:pop 3:quit\n",
      "1\n",
      "enter the element30\n",
      "['10', '20', '30']\n",
      "select the operation 1:push 2:pop 3:quit\n",
      "1\n",
      "stack has reached its max size\n",
      "select the operation 1:push 2:pop 3:quit\n"
     ]
    }
   ],
   "source": [
    "# lets set the maximum size of the stack\n",
    "stack = []\n",
    "max_size = int(input(\"enter the size of stack\"))\n",
    "def push():\n",
    "    if len(stack) == max_size :\n",
    "        print(\"stack has reached its max size\")\n",
    "    else :\n",
    "        element = input(\"enter the element\")\n",
    "        stack.append(element)\n",
    "        print(stack)\n",
    "\n",
    "def pop():\n",
    "    if not stack: #checking stack is empty or not ?\n",
    "        print(\"stack is empty\")\n",
    "    else :\n",
    "        e = stack.pop()\n",
    "        print(\"removed element is\", e)\n",
    "        print(stack)\n",
    "\n",
    "while True:\n",
    "    print(\"select the operation 1:push 2:pop 3:quit\")\n",
    "    choice = int(input())\n",
    "    if choice == 1 :\n",
    "        push()\n",
    "    elif choice == 2 :\n",
    "        pop()\n",
    "    elif choice == 3 :\n",
    "        break\n",
    "    else :\n",
    "        print(\"enter the correct operation\")\n",
    "        "
   ]
  },
  {
   "cell_type": "code",
   "execution_count": null,
   "metadata": {},
   "outputs": [],
   "source": []
  }
 ],
 "metadata": {
  "kernelspec": {
   "display_name": "Python 3",
   "language": "python",
   "name": "python3"
  },
  "language_info": {
   "codemirror_mode": {
    "name": "ipython",
    "version": 3
   },
   "file_extension": ".py",
   "mimetype": "text/x-python",
   "name": "python",
   "nbconvert_exporter": "python",
   "pygments_lexer": "ipython3",
   "version": "3.8.3"
  }
 },
 "nbformat": 4,
 "nbformat_minor": 4
}
