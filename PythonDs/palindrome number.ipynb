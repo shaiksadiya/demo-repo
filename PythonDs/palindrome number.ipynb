{
 "cells": [
  {
   "cell_type": "code",
   "execution_count": 25,
   "metadata": {},
   "outputs": [
    {
     "name": "stdout",
     "output_type": "stream",
     "text": [
      "false\n"
     ]
    }
   ],
   "source": [
    "rev = 0\n",
    "x = 121\n",
    "\n",
    "num = x\n",
    "while num == 0:\n",
    "    digit = num % 10 \n",
    "    rev = rev * 10 + digit\n",
    "    num = num //10\n",
    "    print(num)\n",
    "if x == rev :\n",
    "    print( \"true\")\n",
    "else :\n",
    "    print(\"false\")"
   ]
  },
  {
   "cell_type": "code",
   "execution_count": 32,
   "metadata": {},
   "outputs": [
    {
     "name": "stdout",
     "output_type": "stream",
     "text": [
      "-543\n"
     ]
    }
   ],
   "source": [
    "num = -345\n",
    "\n",
    "if num<0 :\n",
    "    print (-fun(num*(-1)))\n",
    "else :\n",
    "    print(fun(num))\n"
   ]
  },
  {
   "cell_type": "code",
   "execution_count": 30,
   "metadata": {},
   "outputs": [],
   "source": [
    "def fun(num):\n",
    "    rev = 0 \n",
    "    while num > 0:\n",
    "        digit = num % 10 \n",
    "        rev = rev * 10 + digit\n",
    "        num = num //10\n",
    "    return rev\n",
    "        "
   ]
  },
  {
   "cell_type": "code",
   "execution_count": null,
   "metadata": {},
   "outputs": [],
   "source": []
  }
 ],
 "metadata": {
  "kernelspec": {
   "display_name": "Python 3",
   "language": "python",
   "name": "python3"
  },
  "language_info": {
   "codemirror_mode": {
    "name": "ipython",
    "version": 3
   },
   "file_extension": ".py",
   "mimetype": "text/x-python",
   "name": "python",
   "nbconvert_exporter": "python",
   "pygments_lexer": "ipython3",
   "version": "3.8.3"
  }
 },
 "nbformat": 4,
 "nbformat_minor": 4
}
